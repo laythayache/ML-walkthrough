{
 "cells": [
  {
   "cell_type": "markdown",
   "metadata": {},
   "source": [
    "### Data Preparation: Handling Missing and Duplicate Data\n",
    "# Answering Question: Data Preparation - Handle missing and duplicate data from the project document."
   ]
  },
  {
   "cell_type": "code",
   "execution_count": 4,
   "metadata": {},
   "outputs": [
    {
     "name": "stdout",
     "output_type": "stream",
     "text": [
      "Dataset Loaded. Shape: (8760, 8)\n",
      "Missing Values Summary:\n",
      " Date-Hour(NMT)         0\n",
      "WindSpeed              0\n",
      "Sunshine               0\n",
      "AirPressure            0\n",
      "Radiation              0\n",
      "AirTemperature         0\n",
      "RelativeAirHumidity    0\n",
      "SystemProduction       0\n",
      "dtype: int64\n",
      "Found 0 duplicate records.\n",
      "Data preprocessing completed and saved as cleaned_solar_pv_data.csv\n"
     ]
    }
   ],
   "source": [
    "import pandas as pd\n",
    "\n",
    "# Load Dataset\n",
    "filepath = \"data\\Solar.csv\"  # Adjust the path if needed\n",
    "\n",
    "df = pd.read_csv(filepath)\n",
    "print(f\"Dataset Loaded. Shape: {df.shape}\")\n",
    "\n",
    "# Handling Missing Values\n",
    "# Checking for missing data\n",
    "missing_summary = df.isnull().sum()\n",
    "print(\"Missing Values Summary:\\n\", missing_summary)\n",
    "\n",
    "# Dropping columns with more than 50% missing values\n",
    "threshold = 0.5 * len(df)\n",
    "df = df.dropna(axis=1, thresh=threshold)\n",
    "\n",
    "# Filling remaining missing values with the median\n",
    "df = df.fillna(df.median(numeric_only=True))\n",
    "\n",
    "# Removing Duplicates\n",
    "duplicate_count = df.duplicated().sum()\n",
    "print(f\"Found {duplicate_count} duplicate records.\")\n",
    "\n",
    "df = df.drop_duplicates()\n",
    "\n",
    "# Saving the cleaned dataset\n",
    "df.to_csv(\"data\\Solar.csv\", index=False)\n",
    "print(\"Data preprocessing completed and saved as cleaned_solar_pv_data.csv\")\n"
   ]
  },
  {
   "cell_type": "markdown",
   "metadata": {},
   "source": [
    "### Seasonal Feature Extraction\n",
    "# Answering Question: Use date to extract seasonal information (Season, Month, and Day of the month) from the project document.\n"
   ]
  },
  {
   "cell_type": "code",
   "execution_count": 5,
   "metadata": {},
   "outputs": [
    {
     "name": "stdout",
     "output_type": "stream",
     "text": [
      "No 'date' column found in the dataset.\n",
      "Seasonal features saved as seasonal_features_solar_pv_data.csv\n"
     ]
    }
   ],
   "source": [
    "\n",
    "# Assuming the dataset has a 'date' column\n",
    "# Convert the date column to datetime format\n",
    "if 'date' in df.columns:\n",
    "    df['date'] = pd.to_datetime(df['date'])\n",
    "\n",
    "    # Extracting month and day\n",
    "    df['month'] = df['date'].dt.month\n",
    "    df['day_of_month'] = df['date'].dt.day\n",
    "\n",
    "    # Defining seasons based on month\n",
    "    def get_season(month):\n",
    "        if month in [12, 1, 2]:\n",
    "            return 'Winter'\n",
    "        elif month in [3, 4, 5]:\n",
    "            return 'Spring'\n",
    "        elif month in [6, 7, 8]:\n",
    "            return 'Summer'\n",
    "        else:\n",
    "            return 'Autumn'\n",
    "\n",
    "    df['season'] = df['month'].apply(get_season)\n",
    "\n",
    "    print(\"Seasonal features extracted successfully.\")\n",
    "else:\n",
    "    print(\"No 'date' column found in the dataset.\")\n",
    "\n",
    "# Saving the dataset with seasonal features\n",
    "df.to_csv(\"data\\Solar.csv\", index=False)\n",
    "print(\"Seasonal features saved as seasonal_features_solar_pv_data.csv\")\n"
   ]
  }
 ],
 "metadata": {
  "kernelspec": {
   "display_name": "Python 3",
   "language": "python",
   "name": "python3"
  },
  "language_info": {
   "codemirror_mode": {
    "name": "ipython",
    "version": 3
   },
   "file_extension": ".py",
   "mimetype": "text/x-python",
   "name": "python",
   "nbconvert_exporter": "python",
   "pygments_lexer": "ipython3",
   "version": "3.8.0"
  }
 },
 "nbformat": 4,
 "nbformat_minor": 2
}
